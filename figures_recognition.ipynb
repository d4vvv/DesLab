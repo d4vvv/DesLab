{
 "cells": [
  {
   "cell_type": "markdown",
   "metadata": {},
   "source": [
    "# Figures recognition - Functional Demo\n",
    "\n",
    "In this notebook, we will link some certain actions to the recognition of figures."
   ]
  },
  {
   "cell_type": "markdown",
   "metadata": {},
   "source": [
    "Importing libraries and the model"
   ]
  },
  {
   "cell_type": "code",
   "execution_count": null,
   "metadata": {},
   "outputs": [],
   "source": [
    "import torch\n",
    "import torchvision\n",
    "from jetbot import Robot\n",
    "\n",
    "model = torchvision.models.alexnet(pretrained=False)\n",
    "model.classifier[6] = torch.nn.Linear(model.classifier[6].in_features, 5)\n",
    "model.load_state_dict(torch.load('best_model.pth'))\n",
    "device = torch.device('cuda')\n",
    "model = model.to(device)\n",
    "model.load_state_dict(torch.load('best_model.pth'))\n",
    "\n",
    "device = torch.device('cuda')\n",
    "model = model.to(device)\n",
    "\n",
    "robot = Robot()"
   ]
  },
  {
   "cell_type": "markdown",
   "metadata": {},
   "source": [
    "<br/>\n",
    "\n",
    "Preprocessing of the data"
   ]
  },
  {
   "cell_type": "code",
   "execution_count": null,
   "metadata": {},
   "outputs": [],
   "source": [
    "import cv2\n",
    "import numpy as np\n",
    "\n",
    "mean = 255.0 * np.array([0.485, 0.456, 0.406])\n",
    "stdev = 255.0 * np.array([0.229, 0.224, 0.225])\n",
    "\n",
    "normalize = torchvision.transforms.Normalize(mean, stdev)\n",
    "\n",
    "def preprocess(camera_value):\n",
    "    global device, normalize\n",
    "    x = camera_value\n",
    "    x = cv2.cvtColor(x, cv2.COLOR_BGR2RGB)\n",
    "    x = x.transpose((2, 0, 1))\n",
    "    x = torch.from_numpy(x).float()\n",
    "    x = normalize(x)\n",
    "    x = x.to(device)\n",
    "    x = x[None, ...]\n",
    "    return x"
   ]
  },
  {
   "cell_type": "markdown",
   "metadata": {},
   "source": [
    "<br/>\n",
    "\n",
    "Creating widgets for the \"recognition level\" sliders"
   ]
  },
  {
   "cell_type": "code",
   "execution_count": null,
   "metadata": {},
   "outputs": [],
   "source": [
    "import traitlets\n",
    "from IPython.display import display\n",
    "import ipywidgets.widgets as widgets\n",
    "from jetbot import Camera, bgr8_to_jpeg\n",
    "\n",
    "camera = Camera.instance(width=224, height=224)\n",
    "image = widgets.Image(format='jpeg', width=224, height=224)\n",
    "arrow_slider = widgets.FloatSlider(description='arrow', min=0.0, max=1.0, orientation='vertical')\n",
    "square_slider = widgets.FloatSlider(description='square', min=0.0, max=1.0, orientation='vertical')\n",
    "circle_slider = widgets.FloatSlider(description='circle', min=0.0, max=1.0, orientation='vertical')\n",
    "free_slider = widgets.FloatSlider(description='free', min=0.0, max=1.0, orientation='vertical')\n",
    "blocked_slider = widgets.FloatSlider(description='blocked', min=0.0, max=1.0, orientation='vertical')\n",
    "camera_link = traitlets.dlink((camera, 'value'), (image, 'value'), transform=bgr8_to_jpeg)"
   ]
  },
  {
   "cell_type": "markdown",
   "metadata": {},
   "source": [
    "<br/>\n",
    "\n",
    "### Logic of the robot\n",
    "\n",
    "When our Jetbot recognises certain figures it performs some preprogrammed actions:\n",
    "* Red circle - turn right\n",
    "* Blue arrow - turn left\n",
    "* Green square - stop\n",
    "* Free space - go forward\n",
    "* Blocked space - stop"
   ]
  },
  {
   "cell_type": "code",
   "execution_count": null,
   "metadata": {},
   "outputs": [],
   "source": [
    "import torch.nn.functional as F\n",
    "import time\n",
    "\n",
    "current_direction = 0\n",
    "max_index = 0\n",
    "\n",
    "def update(change):\n",
    "    global blocked_slider, robot, arrow_slider, square_slider, circle_slider, free_slider, current_direction, max_index\n",
    "    x = change['new'] \n",
    "    x = preprocess(x)\n",
    "    y = model(x)\n",
    "    \n",
    "    # we apply the `softmax` function to normalize the output vector so it sums to 1 (which makes it a probability distribution)\n",
    "    y = F.softmax(y, dim=1)\n",
    "    speedvalues = [0.1, 0.2, 0.3, 0.4]\n",
    "    prob_blocked = float(y.flatten()[1])\n",
    "    prob_arrow = float(y.flatten()[0])\n",
    "    prob_square = float(y.flatten()[4])\n",
    "    prob_circle = float(y.flatten()[2])\n",
    "    prob_free = float(y.flatten()[3]) \n",
    "    blocked_slider.value = prob_blocked\n",
    "    arrow_slider.value = prob_arrow\n",
    "    square_slider.value = prob_square\n",
    "    circle_slider.value = prob_circle\n",
    "    free_slider.value = prob_free\n",
    "    \n",
    "    # we decided that instead of performing some action when recognition level of some figure exceeds predefined level\n",
    "    # our robot will do something when some certain element has been recognised for a longer period of time\n",
    "    # in that way we are improving stability and preventing unwanted actions\n",
    "    \n",
    "    dir_list = [prob_blocked, prob_arrow, prob_square, prob_circle, prob_free]\n",
    "    max_value = max(dir_list)\n",
    "    max_index_tmp = dir_list.index(max_value)\n",
    "    \n",
    "    if max_index_tmp != max_index:\n",
    "        current_direction = 1\n",
    "    else:\n",
    "        current_direction += 1\n",
    "    max_index = max_index_tmp\n",
    "    if current_direction > 2:\n",
    "        if max_index == 0:      #blocked_prob\n",
    "            robot.stop()\n",
    "        elif max_index == 1:    #arrow_prob\n",
    "            robot.left(0.24)\n",
    "        elif max_index == 2:    #square_prob\n",
    "            robot.stop()\n",
    "        elif max_index == 3:    #circle_prob\n",
    "            robot.right(0.23)\n",
    "        elif max_index == 4:    #free_prob\n",
    "            robot.set_motors(0.29, 0.3)\n",
    "    \n",
    "    time.sleep(0.01) #how often we take new samples\n",
    "        \n",
    "update({'new': camera.value})"
   ]
  },
  {
   "cell_type": "markdown",
   "metadata": {},
   "source": [
    "<br/>\n",
    "\n",
    "Getting updates from the camera"
   ]
  },
  {
   "cell_type": "code",
   "execution_count": null,
   "metadata": {},
   "outputs": [],
   "source": [
    "camera.observe(update, names='value')  # this attaches the 'update' function to the 'value' traitlet of our camera"
   ]
  },
  {
   "cell_type": "markdown",
   "metadata": {},
   "source": [
    "<br/>\n",
    "\n",
    "Stopping the robot"
   ]
  },
  {
   "cell_type": "code",
   "execution_count": null,
   "metadata": {},
   "outputs": [],
   "source": [
    "import time\n",
    "\n",
    "camera.unobserve(update, names='value')\n",
    "time.sleep(0.1)  # add a small sleep to make sure frames have finished processing\n",
    "robot.stop()"
   ]
  },
  {
   "cell_type": "markdown",
   "metadata": {},
   "source": [
    "<br/>\n",
    "\n",
    "If you would like to completely shut down the robot"
   ]
  },
  {
   "cell_type": "code",
   "execution_count": null,
   "metadata": {},
   "outputs": [],
   "source": [
    "camera_link.unlink()\n",
    "camera.stop()"
   ]
  }
 ],
 "metadata": {
  "kernelspec": {
   "display_name": "Python 3",
   "language": "python",
   "name": "python3"
  },
  "language_info": {
   "codemirror_mode": {
    "name": "ipython",
    "version": 3
   },
   "file_extension": ".py",
   "mimetype": "text/x-python",
   "name": "python",
   "nbconvert_exporter": "python",
   "pygments_lexer": "ipython3",
   "version": "3.7.8"
  }
 },
 "nbformat": 4,
 "nbformat_minor": 4
}
